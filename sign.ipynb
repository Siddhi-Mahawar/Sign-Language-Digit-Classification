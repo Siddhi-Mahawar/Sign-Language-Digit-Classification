{
  "nbformat": 4,
  "nbformat_minor": 0,
  "metadata": {
    "colab": {
      "name": "sign.ipynb",
      "provenance": []
    },
    "kernelspec": {
      "name": "python3",
      "display_name": "Python 3"
    }
  },
  "cells": [
    {
      "cell_type": "code",
      "metadata": {
        "id": "HF3u7T96cG7X",
        "colab_type": "code",
        "colab": {
          "base_uri": "https://localhost:8080/",
          "height": 34
        },
        "outputId": "a037f3ab-246a-416f-9bbf-8e79e9c51814"
      },
      "source": [
        "import numpy as np\n",
        "import tensorflow as tf\n",
        "import sys\n",
        "\n",
        "from os import listdir\n",
        "from keras.utils import to_categorical\n",
        "from keras.models import Sequential\n",
        "from keras.layers import Conv2D\n",
        "from keras.layers import MaxPooling2D\n",
        "from keras.layers import Dense\n",
        "from keras.layers import Flatten,Dropout\n",
        "from keras.optimizers import SGD\n",
        "from keras.preprocessing.image import img_to_array\n",
        "from keras.preprocessing.image import load_img\n",
        "from keras.preprocessing.image import ImageDataGenerator\n",
        "from sklearn.model_selection import train_test_split\n",
        "from numpy import asarray\n",
        "from matplotlib import pyplot\n",
        "from matplotlib.image import imread\n",
        "from numpy import argmax"
      ],
      "execution_count": 1,
      "outputs": [
        {
          "output_type": "stream",
          "text": [
            "Using TensorFlow backend.\n"
          ],
          "name": "stderr"
        }
      ]
    },
    {
      "cell_type": "code",
      "metadata": {
        "id": "qf57P2sWceG7",
        "colab_type": "code",
        "colab": {
          "base_uri": "https://localhost:8080/",
          "height": 52
        },
        "outputId": "a6bc6d79-5d88-41cc-97d3-461a9f121e5d"
      },
      "source": [
        "X = np.load('X.npy').reshape(2062,64,64,1)\n",
        "Y = np.load('Y.npy')\n",
        "\n",
        "\n",
        "print (X.shape)\n",
        "print (Y.shape)\n"
      ],
      "execution_count": 2,
      "outputs": [
        {
          "output_type": "stream",
          "text": [
            "(2062, 64, 64, 1)\n",
            "(2062, 10)\n"
          ],
          "name": "stdout"
        }
      ]
    },
    {
      "cell_type": "code",
      "metadata": {
        "id": "T-1hz6Oygi2f",
        "colab_type": "code",
        "colab": {}
      },
      "source": [
        "X_train, X_test, Y_train, Y_test = train_test_split(X, Y, test_size=0.2, random_state=42)"
      ],
      "execution_count": 0,
      "outputs": []
    },
    {
      "cell_type": "code",
      "metadata": {
        "id": "kN2K_veZhPAB",
        "colab_type": "code",
        "colab": {
          "base_uri": "https://localhost:8080/",
          "height": 87
        },
        "outputId": "16d3dd0b-e762-438e-ced0-7b9e971b762c"
      },
      "source": [
        "print (X_train.shape)\n",
        "print (Y_train.shape)\n",
        "\n",
        "print (X_test.shape)\n",
        "print (Y_test.shape)"
      ],
      "execution_count": 4,
      "outputs": [
        {
          "output_type": "stream",
          "text": [
            "(1649, 64, 64, 1)\n",
            "(1649, 10)\n",
            "(413, 64, 64, 1)\n",
            "(413, 10)\n"
          ],
          "name": "stdout"
        }
      ]
    },
    {
      "cell_type": "code",
      "metadata": {
        "id": "ZNf0dURDhmHq",
        "colab_type": "code",
        "colab": {
          "base_uri": "https://localhost:8080/",
          "height": 686
        },
        "outputId": "1031305b-0b22-4013-a491-92191b643f00"
      },
      "source": [
        "model = Sequential()\n",
        "\n",
        "model.add(Conv2D(32, (3, 3), activation='relu', kernel_initializer='he_uniform', padding='same', input_shape=(64, 64, 1)))\n",
        "model.add(MaxPooling2D((2, 2)))\n",
        "model.add(Dropout(0.2))\n",
        "\n",
        "model.add(Conv2D(32, (3, 3), activation='relu', kernel_initializer='he_uniform', padding='same'))\n",
        "model.add(MaxPooling2D((2, 2)))\n",
        "model.add(Dropout(0.2))\n",
        "\n",
        "model.add(Conv2D(32, (3, 3), activation='relu', kernel_initializer='he_uniform', padding='same'))\n",
        "model.add(MaxPooling2D((2, 2)))\n",
        "model.add(Dropout(0.2))\n",
        "\n",
        "model.add(Conv2D(32, (3, 3), activation='relu', kernel_initializer='he_uniform', padding='same'))\n",
        "model.add(MaxPooling2D((2, 2)))\n",
        "model.add(Dropout(0.2))\n",
        "\n",
        "model.add(Flatten())\n",
        "\n",
        "model.add(Dense(512, activation='relu'))\n",
        "model.add(Dense(10, activation='softmax'))\n",
        "\n",
        "# compile the model with adam optimizer\n",
        "model.compile(optimizer='adam',loss='categorical_crossentropy',metrics=['accuracy'])\n",
        "\n",
        "\n",
        "model.summary()"
      ],
      "execution_count": 5,
      "outputs": [
        {
          "output_type": "stream",
          "text": [
            "Model: \"sequential_1\"\n",
            "_________________________________________________________________\n",
            "Layer (type)                 Output Shape              Param #   \n",
            "=================================================================\n",
            "conv2d_1 (Conv2D)            (None, 64, 64, 32)        320       \n",
            "_________________________________________________________________\n",
            "max_pooling2d_1 (MaxPooling2 (None, 32, 32, 32)        0         \n",
            "_________________________________________________________________\n",
            "dropout_1 (Dropout)          (None, 32, 32, 32)        0         \n",
            "_________________________________________________________________\n",
            "conv2d_2 (Conv2D)            (None, 32, 32, 32)        9248      \n",
            "_________________________________________________________________\n",
            "max_pooling2d_2 (MaxPooling2 (None, 16, 16, 32)        0         \n",
            "_________________________________________________________________\n",
            "dropout_2 (Dropout)          (None, 16, 16, 32)        0         \n",
            "_________________________________________________________________\n",
            "conv2d_3 (Conv2D)            (None, 16, 16, 32)        9248      \n",
            "_________________________________________________________________\n",
            "max_pooling2d_3 (MaxPooling2 (None, 8, 8, 32)          0         \n",
            "_________________________________________________________________\n",
            "dropout_3 (Dropout)          (None, 8, 8, 32)          0         \n",
            "_________________________________________________________________\n",
            "conv2d_4 (Conv2D)            (None, 8, 8, 32)          9248      \n",
            "_________________________________________________________________\n",
            "max_pooling2d_4 (MaxPooling2 (None, 4, 4, 32)          0         \n",
            "_________________________________________________________________\n",
            "dropout_4 (Dropout)          (None, 4, 4, 32)          0         \n",
            "_________________________________________________________________\n",
            "flatten_1 (Flatten)          (None, 512)               0         \n",
            "_________________________________________________________________\n",
            "dense_1 (Dense)              (None, 512)               262656    \n",
            "_________________________________________________________________\n",
            "dense_2 (Dense)              (None, 10)                5130      \n",
            "=================================================================\n",
            "Total params: 295,850\n",
            "Trainable params: 295,850\n",
            "Non-trainable params: 0\n",
            "_________________________________________________________________\n"
          ],
          "name": "stdout"
        }
      ]
    },
    {
      "cell_type": "code",
      "metadata": {
        "id": "sORtwIuTiMGq",
        "colab_type": "code",
        "colab": {
          "base_uri": "https://localhost:8080/",
          "height": 1000
        },
        "outputId": "52352e80-b09f-4b8f-f94c-300acc88c751"
      },
      "source": [
        "model.fit(X_train, Y_train, validation_data=(X_test, Y_test), epochs=50)"
      ],
      "execution_count": 27,
      "outputs": [
        {
          "output_type": "stream",
          "text": [
            "Train on 1649 samples, validate on 413 samples\n",
            "Epoch 1/50\n",
            "1649/1649 [==============================] - 9s 6ms/step - loss: 0.0120 - accuracy: 0.9964 - val_loss: 0.0626 - val_accuracy: 0.9903\n",
            "Epoch 2/50\n",
            "1649/1649 [==============================] - 9s 6ms/step - loss: 0.0122 - accuracy: 0.9976 - val_loss: 0.1007 - val_accuracy: 0.9879\n",
            "Epoch 3/50\n",
            "1649/1649 [==============================] - 9s 6ms/step - loss: 0.0185 - accuracy: 0.9970 - val_loss: 0.0563 - val_accuracy: 0.9903\n",
            "Epoch 4/50\n",
            "1649/1649 [==============================] - 9s 6ms/step - loss: 0.0224 - accuracy: 0.9939 - val_loss: 0.1061 - val_accuracy: 0.9806\n",
            "Epoch 5/50\n",
            "1649/1649 [==============================] - 9s 6ms/step - loss: 0.0269 - accuracy: 0.9951 - val_loss: 0.0154 - val_accuracy: 0.9952\n",
            "Epoch 6/50\n",
            "1649/1649 [==============================] - 9s 6ms/step - loss: 0.0093 - accuracy: 0.9958 - val_loss: 0.0657 - val_accuracy: 0.9879\n",
            "Epoch 7/50\n",
            "1649/1649 [==============================] - 9s 5ms/step - loss: 0.0141 - accuracy: 0.9976 - val_loss: 0.0272 - val_accuracy: 0.9903\n",
            "Epoch 8/50\n",
            "1649/1649 [==============================] - 9s 6ms/step - loss: 0.0057 - accuracy: 0.9976 - val_loss: 0.0608 - val_accuracy: 0.9879\n",
            "Epoch 9/50\n",
            "1649/1649 [==============================] - 9s 5ms/step - loss: 8.9395e-04 - accuracy: 1.0000 - val_loss: 0.0754 - val_accuracy: 0.9855\n",
            "Epoch 10/50\n",
            "1649/1649 [==============================] - 9s 6ms/step - loss: 0.0014 - accuracy: 0.9994 - val_loss: 0.0421 - val_accuracy: 0.9879\n",
            "Epoch 11/50\n",
            "1649/1649 [==============================] - 9s 5ms/step - loss: 0.0026 - accuracy: 0.9988 - val_loss: 0.0475 - val_accuracy: 0.9855\n",
            "Epoch 12/50\n",
            "1649/1649 [==============================] - 9s 5ms/step - loss: 0.0051 - accuracy: 0.9976 - val_loss: 0.0484 - val_accuracy: 0.9903\n",
            "Epoch 13/50\n",
            "1649/1649 [==============================] - 9s 6ms/step - loss: 0.0053 - accuracy: 0.9976 - val_loss: 0.1193 - val_accuracy: 0.9831\n",
            "Epoch 14/50\n",
            "1649/1649 [==============================] - 9s 5ms/step - loss: 0.0093 - accuracy: 0.9964 - val_loss: 0.0217 - val_accuracy: 0.9903\n",
            "Epoch 15/50\n",
            "1649/1649 [==============================] - 9s 6ms/step - loss: 0.0089 - accuracy: 0.9982 - val_loss: 0.0870 - val_accuracy: 0.9879\n",
            "Epoch 16/50\n",
            "1649/1649 [==============================] - 9s 6ms/step - loss: 0.0031 - accuracy: 0.9982 - val_loss: 0.0597 - val_accuracy: 0.9855\n",
            "Epoch 17/50\n",
            "1649/1649 [==============================] - 9s 5ms/step - loss: 0.0091 - accuracy: 0.9970 - val_loss: 0.0718 - val_accuracy: 0.9903\n",
            "Epoch 18/50\n",
            "1649/1649 [==============================] - 9s 6ms/step - loss: 0.0053 - accuracy: 0.9982 - val_loss: 0.1382 - val_accuracy: 0.9879\n",
            "Epoch 19/50\n",
            "1649/1649 [==============================] - 9s 5ms/step - loss: 0.0316 - accuracy: 0.9927 - val_loss: 0.0401 - val_accuracy: 0.9927\n",
            "Epoch 20/50\n",
            "1649/1649 [==============================] - 9s 6ms/step - loss: 0.0072 - accuracy: 0.9976 - val_loss: 0.1046 - val_accuracy: 0.9831\n",
            "Epoch 21/50\n",
            "1649/1649 [==============================] - 9s 6ms/step - loss: 0.0101 - accuracy: 0.9970 - val_loss: 0.0585 - val_accuracy: 0.9927\n",
            "Epoch 22/50\n",
            "1649/1649 [==============================] - 9s 6ms/step - loss: 0.0055 - accuracy: 0.9982 - val_loss: 0.0567 - val_accuracy: 0.9927\n",
            "Epoch 23/50\n",
            "1649/1649 [==============================] - 9s 6ms/step - loss: 0.0041 - accuracy: 0.9994 - val_loss: 0.0425 - val_accuracy: 0.9927\n",
            "Epoch 24/50\n",
            "1649/1649 [==============================] - 9s 6ms/step - loss: 0.0071 - accuracy: 0.9976 - val_loss: 0.0488 - val_accuracy: 0.9927\n",
            "Epoch 25/50\n",
            "1649/1649 [==============================] - 9s 6ms/step - loss: 0.0061 - accuracy: 0.9976 - val_loss: 0.0361 - val_accuracy: 0.9952\n",
            "Epoch 26/50\n",
            "1649/1649 [==============================] - 9s 6ms/step - loss: 0.0090 - accuracy: 0.9982 - val_loss: 0.0501 - val_accuracy: 0.9927\n",
            "Epoch 27/50\n",
            "1649/1649 [==============================] - 9s 6ms/step - loss: 0.0042 - accuracy: 0.9982 - val_loss: 0.0712 - val_accuracy: 0.9903\n",
            "Epoch 28/50\n",
            "1649/1649 [==============================] - 9s 6ms/step - loss: 0.0076 - accuracy: 0.9982 - val_loss: 0.0548 - val_accuracy: 0.9903\n",
            "Epoch 29/50\n",
            "1649/1649 [==============================] - 11s 7ms/step - loss: 0.0042 - accuracy: 0.9988 - val_loss: 0.0337 - val_accuracy: 0.9903\n",
            "Epoch 30/50\n",
            "1649/1649 [==============================] - 12s 7ms/step - loss: 0.0167 - accuracy: 0.9964 - val_loss: 0.0666 - val_accuracy: 0.9831\n",
            "Epoch 31/50\n",
            "1649/1649 [==============================] - 9s 6ms/step - loss: 0.0141 - accuracy: 0.9964 - val_loss: 0.0557 - val_accuracy: 0.9903\n",
            "Epoch 32/50\n",
            "1649/1649 [==============================] - 9s 6ms/step - loss: 0.0025 - accuracy: 0.9994 - val_loss: 0.0461 - val_accuracy: 0.9903\n",
            "Epoch 33/50\n",
            "1649/1649 [==============================] - 9s 6ms/step - loss: 0.0236 - accuracy: 0.9964 - val_loss: 0.1956 - val_accuracy: 0.9782\n",
            "Epoch 34/50\n",
            "1649/1649 [==============================] - 9s 6ms/step - loss: 0.0192 - accuracy: 0.9939 - val_loss: 0.0671 - val_accuracy: 0.9879\n",
            "Epoch 35/50\n",
            "1649/1649 [==============================] - 9s 6ms/step - loss: 0.0163 - accuracy: 0.9958 - val_loss: 0.0909 - val_accuracy: 0.9879\n",
            "Epoch 36/50\n",
            "1649/1649 [==============================] - 9s 6ms/step - loss: 0.0254 - accuracy: 0.9958 - val_loss: 0.0404 - val_accuracy: 0.9927\n",
            "Epoch 37/50\n",
            "1649/1649 [==============================] - 9s 6ms/step - loss: 0.0132 - accuracy: 0.9970 - val_loss: 0.0429 - val_accuracy: 0.9879\n",
            "Epoch 38/50\n",
            "1649/1649 [==============================] - 9s 6ms/step - loss: 0.0024 - accuracy: 0.9988 - val_loss: 0.0654 - val_accuracy: 0.9927\n",
            "Epoch 39/50\n",
            "1649/1649 [==============================] - 9s 6ms/step - loss: 0.0020 - accuracy: 0.9988 - val_loss: 0.0578 - val_accuracy: 0.9903\n",
            "Epoch 40/50\n",
            "1649/1649 [==============================] - 9s 6ms/step - loss: 0.0083 - accuracy: 0.9970 - val_loss: 0.0679 - val_accuracy: 0.9927\n",
            "Epoch 41/50\n",
            "1649/1649 [==============================] - 9s 6ms/step - loss: 0.0058 - accuracy: 0.9976 - val_loss: 0.0625 - val_accuracy: 0.9903\n",
            "Epoch 42/50\n",
            "1649/1649 [==============================] - 9s 6ms/step - loss: 0.0081 - accuracy: 0.9982 - val_loss: 0.0503 - val_accuracy: 0.9952\n",
            "Epoch 43/50\n",
            "1649/1649 [==============================] - 9s 6ms/step - loss: 0.0342 - accuracy: 0.9945 - val_loss: 0.0442 - val_accuracy: 0.9952\n",
            "Epoch 44/50\n",
            "1649/1649 [==============================] - 9s 6ms/step - loss: 0.0074 - accuracy: 0.9982 - val_loss: 0.0585 - val_accuracy: 0.9927\n",
            "Epoch 45/50\n",
            "1649/1649 [==============================] - 9s 6ms/step - loss: 0.0082 - accuracy: 0.9976 - val_loss: 0.0496 - val_accuracy: 0.9927\n",
            "Epoch 46/50\n",
            "1649/1649 [==============================] - 9s 6ms/step - loss: 0.0036 - accuracy: 0.9994 - val_loss: 0.0372 - val_accuracy: 0.9927\n",
            "Epoch 47/50\n",
            "1649/1649 [==============================] - 9s 6ms/step - loss: 0.0032 - accuracy: 0.9982 - val_loss: 0.0726 - val_accuracy: 0.9855\n",
            "Epoch 48/50\n",
            "1649/1649 [==============================] - 9s 6ms/step - loss: 7.9280e-04 - accuracy: 1.0000 - val_loss: 0.0578 - val_accuracy: 0.9927\n",
            "Epoch 49/50\n",
            "1649/1649 [==============================] - 9s 6ms/step - loss: 0.0031 - accuracy: 0.9988 - val_loss: 0.0405 - val_accuracy: 0.9927\n",
            "Epoch 50/50\n",
            "1649/1649 [==============================] - 9s 6ms/step - loss: 0.0070 - accuracy: 0.9988 - val_loss: 0.0372 - val_accuracy: 0.9927\n"
          ],
          "name": "stdout"
        },
        {
          "output_type": "execute_result",
          "data": {
            "text/plain": [
              "<keras.callbacks.callbacks.History at 0x7f5243f5ef60>"
            ]
          },
          "metadata": {
            "tags": []
          },
          "execution_count": 27
        }
      ]
    },
    {
      "cell_type": "code",
      "metadata": {
        "id": "InENGxEnpHIk",
        "colab_type": "code",
        "colab": {}
      },
      "source": [
        "model.save('Sign-Language.model')"
      ],
      "execution_count": 0,
      "outputs": []
    },
    {
      "cell_type": "code",
      "metadata": {
        "id": "i13QJx3CqDee",
        "colab_type": "code",
        "colab": {
          "base_uri": "https://localhost:8080/",
          "height": 87
        },
        "outputId": "e82a96aa-7aa4-4663-8167-8d22df7ba0c6"
      },
      "source": [
        "score = model.evaluate(X_test, Y_test, verbose=0)\n",
        "print('Test loss:', score[0])\n",
        "print('Test accuracy:', score[1])\n",
        "\n",
        "\n",
        "score = model.evaluate(X_train, Y_train, verbose=0)\n",
        "print('Train loss:', score[0])\n",
        "print('Train accuracy:', score[1])\n",
        "\n"
      ],
      "execution_count": 29,
      "outputs": [
        {
          "output_type": "stream",
          "text": [
            "Test loss: 0.037224455362536\n",
            "Test accuracy: 0.9927361011505127\n",
            "Train loss: 2.910940614758673e-06\n",
            "Train accuracy: 1.0\n"
          ],
          "name": "stdout"
        }
      ]
    },
    {
      "cell_type": "code",
      "metadata": {
        "id": "limqHNyzy-Fh",
        "colab_type": "code",
        "colab": {}
      },
      "source": [
        ""
      ],
      "execution_count": 0,
      "outputs": []
    }
  ]
}